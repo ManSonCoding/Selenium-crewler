{
 "cells": [
  {
   "cell_type": "code",
   "execution_count": 1,
   "metadata": {},
   "outputs": [
    {
     "name": "stdout",
     "output_type": "stream",
     "text": [
      "Python 3.8.2\r\n"
     ]
    }
   ],
   "source": [
    "!python --version"
   ]
  },
  {
   "cell_type": "code",
   "execution_count": 55,
   "metadata": {},
   "outputs": [],
   "source": [
    "import selenium\n",
    "from selenium import webdriver\n",
    "from selenium.webdriver import ActionChains\n",
    "\n",
    "from selenium.webdriver.common.keys import Keys\n",
    "from selenium.webdriver.common.by import By\n",
    "\n",
    "from selenium.webdriver.support import expected_conditions as EC\n",
    "from selenium.webdriver.support.ui import Select\n",
    "from selenium.webdriver.support.ui import WebDriverWait\n",
    "from bs4 import BeautifulSoup"
   ]
  },
  {
   "cell_type": "code",
   "execution_count": 56,
   "metadata": {},
   "outputs": [],
   "source": [
    "URL = 'https://www.instagram.com/explore/tags/%ED%8C%8C%EC%9B%8C%EB%B3%BC%EC%B4%9D%ED%8C%90/'\n",
    "\n",
    "driver = webdriver.Chrome(executable_path='./chromedriver')\n",
    "driver.get(url=URL)"
   ]
  },
  {
   "cell_type": "code",
   "execution_count": null,
   "metadata": {},
   "outputs": [],
   "source": [
    "#로그인"
   ]
  },
  {
   "cell_type": "code",
   "execution_count": null,
   "metadata": {},
   "outputs": [],
   "source": [
    "#나중에하기"
   ]
  },
  {
   "cell_type": "code",
   "execution_count": null,
   "metadata": {},
   "outputs": [],
   "source": [
    "#"
   ]
  },
  {
   "cell_type": "code",
   "execution_count": null,
   "metadata": {},
   "outputs": [],
   "source": []
  },
  {
   "cell_type": "code",
   "execution_count": 73,
   "metadata": {},
   "outputs": [],
   "source": [
    "from selenium import webdriver\n",
    "\n",
    "username = \"Your Username\"\n",
    "password = \"Your Password\"\n",
    "\n",
    "getdriver = (\"https://www.instagram.com/accounts/login/\")\n",
    "\n",
    "driver = webdriver.Chrome(executable_path='./chromedriver')\n",
    "\n",
    "driver.get(getdriver)\n",
    "\n"
   ]
  },
  {
   "cell_type": "code",
   "execution_count": 74,
   "metadata": {},
   "outputs": [
    {
     "ename": "KeyboardInterrupt",
     "evalue": "",
     "output_type": "error",
     "traceback": [
      "\u001b[0;31m---------------------------------------------------------------------------\u001b[0m",
      "\u001b[0;31mKeyboardInterrupt\u001b[0m                         Traceback (most recent call last)",
      "\u001b[0;32m<ipython-input-74-802d52cbd4bd>\u001b[0m in \u001b[0;36m<module>\u001b[0;34m\u001b[0m\n\u001b[1;32m     27\u001b[0m         \u001b[0msleep\u001b[0m\u001b[0;34m(\u001b[0m\u001b[0;36m1\u001b[0m\u001b[0;34m)\u001b[0m\u001b[0;34m\u001b[0m\u001b[0;34m\u001b[0m\u001b[0m\n\u001b[1;32m     28\u001b[0m         \u001b[0mdriver\u001b[0m\u001b[0;34m.\u001b[0m\u001b[0mfind_element_by_css_selector\u001b[0m\u001b[0;34m(\u001b[0m\u001b[0;34m'body > div.RnEpo.Yx5HN > div > div > div > div > div > div > div.Igw0E.IwRSH.eGOV_._4EzTm.MGdpg.aGBdT.XfCBB > button'\u001b[0m\u001b[0;34m)\u001b[0m\u001b[0;34m.\u001b[0m\u001b[0mclick\u001b[0m\u001b[0;34m(\u001b[0m\u001b[0;34m)\u001b[0m\u001b[0;34m\u001b[0m\u001b[0;34m\u001b[0m\u001b[0m\n\u001b[0;32m---> 29\u001b[0;31m         \u001b[0msleep\u001b[0m\u001b[0;34m(\u001b[0m\u001b[0;36m1\u001b[0m\u001b[0;34m)\u001b[0m\u001b[0;34m\u001b[0m\u001b[0;34m\u001b[0m\u001b[0m\n\u001b[0m\u001b[1;32m     30\u001b[0m \u001b[0;34m\u001b[0m\u001b[0m\n\u001b[1;32m     31\u001b[0m \u001b[0;34m\u001b[0m\u001b[0m\n",
      "\u001b[0;31mKeyboardInterrupt\u001b[0m: "
     ]
    }
   ],
   "source": [
    "import clipboard\n",
    "from time import sleep\n",
    "url_list = []\n",
    "\n",
    "\n",
    "for i in range(50):\n",
    "    try:\n",
    "        driver.find_element_by_css_selector('body > div._2dDPU.CkGkG > div.zZYga > div > article > div.MEAGs > button > div > div > svg').click()\n",
    "        sleep(2) \n",
    "\n",
    "\n",
    "        driver.find_element_by_css_selector('body > div.RnEpo.Yx5HN > div > div > div > div > button:nth-child(4)').click()\n",
    "        sleep(1) \n",
    "\n",
    "\n",
    "        # 붙여넣기 & 리스트 넣기\n",
    "        tmp = clipboard.paste()\n",
    "        url_list.append(tmp)\n",
    "\n",
    "        driver.find_element_by_css_selector('body > div._2dDPU.CkGkG > div.zZYga > div > article > div.MEAGs > button > div > div > svg').click()\n",
    "        sleep(1) \n",
    "\n",
    "\n",
    "        driver.find_element_by_css_selector('body > div.RnEpo.Yx5HN > div > div > div > div > button.aOOlW.-Cab_').click()\n",
    "        sleep(1) \n",
    "        driver.find_element_by_css_selector('body > div.RnEpo.Yx5HN > div > div > div > div.jIHp4 > div > div > div > div.J09pf > button:nth-child(1)').click()\n",
    "        sleep(1) \n",
    "        driver.find_element_by_css_selector('body > div.RnEpo.Yx5HN > div > div > div > div > div > div > div.Igw0E.IwRSH.eGOV_._4EzTm.MGdpg.aGBdT.XfCBB > button').click()\n",
    "        sleep(1) \n",
    "\n",
    "\n",
    "        driver.find_element_by_css_selector('body > div._2dDPU.CkGkG > div.EfHg9 > div > div > a').click()\n",
    "\n",
    "        sleep(1) \n",
    "\n",
    "    except Exception:\n",
    "        pass\n",
    "\n",
    "\n",
    "\n",
    "\n",
    "\n",
    "\n",
    "# driver.find_element_by_xpath(\"//input[@name='password']\").send_keys(password)\n",
    "# driver.find_element_by_xpath(\"//button[contains(.,'Log in')]\").click()"
   ]
  },
  {
   "cell_type": "code",
   "execution_count": null,
   "metadata": {},
   "outputs": [],
   "source": []
  },
  {
   "cell_type": "code",
   "execution_count": 75,
   "metadata": {
    "scrolled": true
   },
   "outputs": [
    {
     "data": {
      "text/plain": [
       "['https://www.instagram.com/p/CP0dxkOHUaR/?utm_source=ig_web_copy_link',\n",
       " 'https://www.instagram.com/p/CJvcjuzHLce/?utm_source=ig_web_copy_link',\n",
       " 'https://www.instagram.com/p/CJqInwBnV2P/?utm_source=ig_web_copy_link',\n",
       " 'https://www.instagram.com/p/CJ8MtC1nra6/?utm_source=ig_web_copy_link',\n",
       " 'https://www.instagram.com/p/CJihbX-HPh0/?utm_source=ig_web_copy_link',\n",
       " 'https://www.instagram.com/p/CJZsrC4HoTL/?utm_source=ig_web_copy_link',\n",
       " 'https://www.instagram.com/p/CJzbgTrH99G/?utm_source=ig_web_copy_link',\n",
       " 'https://www.instagram.com/p/CJ3LCv5nis2/?utm_source=ig_web_copy_link',\n",
       " 'https://www.instagram.com/p/CJmj5kBn-eG/?utm_source=ig_web_copy_link',\n",
       " 'https://www.instagram.com/p/CJe72Fxnk7W/?utm_source=ig_web_copy_link',\n",
       " 'https://www.instagram.com/p/CJmj5kBn-eG/?utm_source=ig_web_copy_link',\n",
       " 'https://www.instagram.com/p/CJe72Fxnk7W/?utm_source=ig_web_copy_link',\n",
       " 'https://www.instagram.com/p/CJmj5kBn-eG/?utm_source=ig_web_copy_link',\n",
       " 'https://www.instagram.com/p/CJe72Fxnk7W/?utm_source=ig_web_copy_link']"
      ]
     },
     "execution_count": 75,
     "metadata": {},
     "output_type": "execute_result"
    }
   ],
   "source": [
    "url_list"
   ]
  },
  {
   "cell_type": "code",
   "execution_count": 76,
   "metadata": {},
   "outputs": [],
   "source": [
    "import pandas as pd\n",
    "df = pd.DataFrame(url_list)"
   ]
  },
  {
   "cell_type": "code",
   "execution_count": 67,
   "metadata": {},
   "outputs": [],
   "source": [
    "df.to_csv('url.csv')"
   ]
  },
  {
   "cell_type": "code",
   "execution_count": null,
   "metadata": {},
   "outputs": [],
   "source": []
  }
 ],
 "metadata": {
  "kernelspec": {
   "display_name": "Python 3",
   "language": "python",
   "name": "python3"
  },
  "language_info": {
   "codemirror_mode": {
    "name": "ipython",
    "version": 3
   },
   "file_extension": ".py",
   "mimetype": "text/x-python",
   "name": "python",
   "nbconvert_exporter": "python",
   "pygments_lexer": "ipython3",
   "version": "3.8.3"
  }
 },
 "nbformat": 4,
 "nbformat_minor": 4
}
